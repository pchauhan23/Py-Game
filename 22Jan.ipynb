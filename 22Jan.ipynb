{
  "nbformat": 4,
  "nbformat_minor": 0,
  "metadata": {
    "colab": {
      "name": "22Jan.ipynb",
      "provenance": [],
      "authorship_tag": "ABX9TyOtJQQFTiyxu97OOD9Kbx9O",
      "include_colab_link": true
    },
    "kernelspec": {
      "name": "python3",
      "display_name": "Python 3"
    }
  },
  "cells": [
    {
      "cell_type": "markdown",
      "metadata": {
        "id": "view-in-github",
        "colab_type": "text"
      },
      "source": [
        "<a href=\"https://colab.research.google.com/github/pchauhan23/Py-Game/blob/master/22Jan.ipynb\" target=\"_parent\"><img src=\"https://colab.research.google.com/assets/colab-badge.svg\" alt=\"Open In Colab\"/></a>"
      ]
    },
    {
      "cell_type": "code",
      "metadata": {
        "id": "vK5zFlaCpyJG",
        "colab_type": "code",
        "colab": {
          "base_uri": "https://localhost:8080/",
          "height": 34
        },
        "outputId": "0c8c20dc-2e02-4c0b-9670-426bad74beef"
      },
      "source": [
        "a=23\n",
        "b=67\n",
        "print(a&b)"
      ],
      "execution_count": 1,
      "outputs": [
        {
          "output_type": "stream",
          "text": [
            "3\n"
          ],
          "name": "stdout"
        }
      ]
    },
    {
      "cell_type": "code",
      "metadata": {
        "id": "X206ROGtsVx8",
        "colab_type": "code",
        "colab": {
          "base_uri": "https://localhost:8080/",
          "height": 34
        },
        "outputId": "ed79c772-cebc-4de6-f804-abc9724e002d"
      },
      "source": [
        "# swaping number\n",
        "a,b=4,5\n",
        "a,b=b,a\n",
        "print(a)"
      ],
      "execution_count": 3,
      "outputs": [
        {
          "output_type": "stream",
          "text": [
            "5\n"
          ],
          "name": "stdout"
        }
      ]
    },
    {
      "cell_type": "code",
      "metadata": {
        "id": "LS07yrj8ubQ7",
        "colab_type": "code",
        "colab": {
          "base_uri": "https://localhost:8080/",
          "height": 34
        },
        "outputId": "ca8aafe2-3a00-4474-f8bf-0e8096b8b8a4"
      },
      "source": [
        "#Swaping of two number\n",
        "a=22\n",
        "b=8\n",
        "a=a+b\n",
        "b=a-b\n",
        "a=a/b\n",
        "b=a/b\n",
        "print(a,b)"
      ],
      "execution_count": 4,
      "outputs": [
        {
          "output_type": "stream",
          "text": [
            "1.3636363636363635 0.06198347107438016\n"
          ],
          "name": "stdout"
        }
      ]
    },
    {
      "cell_type": "code",
      "metadata": {
        "id": "2l1L6Rlcv9c_",
        "colab_type": "code",
        "colab": {
          "base_uri": "https://localhost:8080/",
          "height": 51
        },
        "outputId": "2156d1a2-a62e-4691-9de2-897da086aa47"
      },
      "source": [
        "# xor\n",
        "a=3\n",
        "b=2\n",
        "a=a^b\n",
        "b=b^a\n",
        "a=b^a\n",
        "print(a)\n",
        "print(b)"
      ],
      "execution_count": 13,
      "outputs": [
        {
          "output_type": "stream",
          "text": [
            "2\n",
            "3\n"
          ],
          "name": "stdout"
        }
      ]
    },
    {
      "cell_type": "code",
      "metadata": {
        "id": "Uhh6Vw3l1AQx",
        "colab_type": "code",
        "colab": {
          "base_uri": "https://localhost:8080/",
          "height": 34
        },
        "outputId": "a7b8514c-e25f-4ecf-c752-aa6777a387c8"
      },
      "source": [
        "# Using 'math' module\n",
        "import math\n",
        "a=(math.pi)\n",
        "print(a)e\n"
      ],
      "execution_count": 14,
      "outputs": [
        {
          "output_type": "stream",
          "text": [
            "3.141592653589793\n"
          ],
          "name": "stdout"
        }
      ]
    },
    {
      "cell_type": "code",
      "metadata": {
        "id": "o5c7lVqK3zKe",
        "colab_type": "code",
        "colab": {
          "base_uri": "https://localhost:8080/",
          "height": 34
        },
        "outputId": "9d86a411-6cf6-4a22-cf3a-7c43bb1c0e85"
      },
      "source": [
        "#Using round\n",
        "import math\n",
        "a=(round(3.444, 2))\n",
        "print(a)"
      ],
      "execution_count": 15,
      "outputs": [
        {
          "output_type": "stream",
          "text": [
            "3.44\n"
          ],
          "name": "stdout"
        }
      ]
    },
    {
      "cell_type": "code",
      "metadata": {
        "id": "XN6CT9v34UkK",
        "colab_type": "code",
        "colab": {
          "base_uri": "https://localhost:8080/",
          "height": 34
        },
        "outputId": "ac55dd2a-3b92-4f6b-cbe7-985cc6ca7596"
      },
      "source": [
        "#Using from keyword and math module, pow function\n",
        "from math import pi,pow\n",
        "a=pow(2,3)\n",
        "print(a)"
      ],
      "execution_count": 16,
      "outputs": [
        {
          "output_type": "stream",
          "text": [
            "8.0\n"
          ],
          "name": "stdout"
        }
      ]
    },
    {
      "cell_type": "code",
      "metadata": {
        "id": "sWzaSTvd5PLk",
        "colab_type": "code",
        "colab": {
          "base_uri": "https://localhost:8080/",
          "height": 34
        },
        "outputId": "35e725ad-6178-475a-c114-7c14d818bfb2"
      },
      "source": [
        "# for easy use\n",
        "import math as m\n",
        "from math import pi as p\n",
        "print(p)"
      ],
      "execution_count": 17,
      "outputs": [
        {
          "output_type": "stream",
          "text": [
            "3.141592653589793\n"
          ],
          "name": "stdout"
        }
      ]
    },
    {
      "cell_type": "code",
      "metadata": {
        "id": "FMVJwOyW9TXM",
        "colab_type": "code",
        "colab": {
          "base_uri": "https://localhost:8080/",
          "height": 68
        },
        "outputId": "5a8e10f1-a7ce-48bb-b2ea-272712b0c710"
      },
      "source": [
        "# Random module\n",
        "import random\n",
        "r=random.randint(1,100)\n",
        "print(r)\n",
        "movie_list=['wakanda','city girls','brothers in the hood']\n",
        "movieName=random.choice(movie_list)\n",
        "print(movieName)\n",
        "string='ABCDEF'\n",
        "print(random.choice(string))"
      ],
      "execution_count": 34,
      "outputs": [
        {
          "output_type": "stream",
          "text": [
            "88\n",
            "wakanda\n",
            "F\n"
          ],
          "name": "stdout"
        }
      ]
    },
    {
      "cell_type": "code",
      "metadata": {
        "id": "vkKausacBflH",
        "colab_type": "code",
        "colab": {
          "base_uri": "https://localhost:8080/",
          "height": 51
        },
        "outputId": "85b727b6-5548-4708-d4ec-04cf292058ce"
      },
      "source": [
        "#Guess Random Chracter\n",
        "import random\n",
        "r=random.randint(0,9)\n",
        "print(r)\n",
        "randomCharacter_list= 'abcdefghijklmnopqrstuvwxyzABCDEFGHIJKLMNOPQRSTUVWXYZ!@#$%^&*_+'\n",
        "print(random.choice(randomCharacter_list))"
      ],
      "execution_count": 42,
      "outputs": [
        {
          "output_type": "stream",
          "text": [
            "9\n",
            "L\n"
          ],
          "name": "stdout"
        }
      ]
    },
    {
      "cell_type": "code",
      "metadata": {
        "id": "tMZPSwAQHJNa",
        "colab_type": "code",
        "colab": {
          "base_uri": "https://localhost:8080/",
          "height": 34
        },
        "outputId": "01bddfc7-933c-4587-8ce3-f83d1de484de"
      },
      "source": [
        "#Module Chracter(Chr)\n",
        "import random\n",
        "print(chr(random.randint(35,119)))"
      ],
      "execution_count": 73,
      "outputs": [
        {
          "output_type": "stream",
          "text": [
            "b\n"
          ],
          "name": "stdout"
        }
      ]
    }
  ]
}